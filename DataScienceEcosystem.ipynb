{
 "cells": [
  {
   "cell_type": "markdown",
   "id": "b635b940-ba4f-4f04-8d16-41c8ca89fcba",
   "metadata": {},
   "source": [
    "# Data Science Tools and Ecosystem"
   ]
  },
  {
   "attachments": {},
   "cell_type": "markdown",
   "id": "db0c782c-376c-4d1d-89c1-fcbb4494838e",
   "metadata": {},
   "source": [
    "In this notebook, Data Science Tools and Ecosystem are summarized."
   ]
  },
  {
   "cell_type": "markdown",
   "id": "fbd6550b-bbbd-4c14-9e27-863f7032a6b8",
   "metadata": {},
   "source": [
    "Some of the popular languages that Data Scientists use are:\n",
    "1. Python: Best for versatility and ease of use.\n",
    "2. R: Ideal for statistics-heavy projects and academic research.\n",
    "3. SQL: Essential for database querying and management."
   ]
  },
  {
   "cell_type": "markdown",
   "id": "c532876e-f51e-4d72-9607-4b5eaa8e8086",
   "metadata": {},
   "source": [
    "**Objectives**"
   ]
  },
  {
   "cell_type": "markdown",
   "id": "1d502fa7-6476-4b83-a812-d3e1e7d95259",
   "metadata": {},
   "source": [
    "The following are the three tems covered in this note book:\n",
    "1. Create markdown cell with title of the notebook\n",
    "2. Create a markdown cell for an introduction\n",
    "3. Create a markdown cell to list data science languages\n",
    "4. Create a markdown cell to list data science libraries\n",
    "5. Create a markdown cell with a table of Data Science tools\n"
   ]
  },
  {
   "cell_type": "markdown",
   "id": "9b24d7fc-ede5-49e2-b440-1b03bd6bc428",
   "metadata": {},
   "source": [
    "Some of the commonly used libraries used by Data Scientists include:\n",
    "- Pandas (Python): For handling structured data like DataFrames and performing operations like filtering, grouping, and aggregating.\n",
    "- NumPy (Python): For numerical computations, including array manipulation and mathematical functions.\n",
    "- Dplyr (R): Simplifies data manipulation using a grammar of data manipulation."
   ]
  },
  {
   "cell_type": "markdown",
   "id": "9ff13df9-e715-412c-92e6-e23b555b6e3c",
   "metadata": {},
   "source": [
    "|Data Science Tools|Development Environment| \n",
    "|-----|-------|\n",
    "|Jupyter Notebook|web browser| \n",
    "|RStudio|Integrated Development Environment (IDE)|\n",
    "|Anaconda|Anaconda Navigator|"
   ]
  },
  {
   "cell_type": "markdown",
   "id": "427fe74f-c4a2-48c5-a01e-ca07307a1520",
   "metadata": {},
   "source": [
    "### Below are a few examples of evaluating arithmetic expressions in Python"
   ]
  },
  {
   "cell_type": "code",
   "execution_count": 1,
   "id": "1c546e76-c41d-4426-86db-5cf24eaa7d80",
   "metadata": {},
   "outputs": [
    {
     "name": "stdout",
     "output_type": "stream",
     "text": [
      "11\n"
     ]
    }
   ],
   "source": [
    "x = 5+6\n",
    "print(x)"
   ]
  },
  {
   "cell_type": "markdown",
   "id": "1bae196c-70cd-47ee-ab17-50990dc8e4c6",
   "metadata": {},
   "source": [
    "This a simple arithmetic expression to mutiply then add integers"
   ]
  },
  {
   "cell_type": "code",
   "execution_count": 1,
   "id": "d2988e43-de1a-48fe-9dc0-4e7047876e3a",
   "metadata": {},
   "outputs": [
    {
     "name": "stdout",
     "output_type": "stream",
     "text": [
      "17\n"
     ]
    }
   ],
   "source": [
    "sum = (3*4)+5\n",
    "print(sum)"
   ]
  },
  {
   "cell_type": "markdown",
   "id": "397a63bd-170f-4223-989c-f5b1185a15c8",
   "metadata": {},
   "source": [
    "This will convert 200 minutes to hours by diving by 60"
   ]
  },
  {
   "cell_type": "code",
   "execution_count": 5,
   "id": "d661f41a-07da-4136-8f6c-4ca2d9f211e6",
   "metadata": {},
   "outputs": [
    {
     "name": "stdout",
     "output_type": "stream",
     "text": [
      "3.3 hours\n"
     ]
    }
   ],
   "source": [
    "hour = 200/60\n",
    "print(round(hour, 1), \"hours\")"
   ]
  },
  {
   "cell_type": "markdown",
   "id": "36348530-cd74-4d4c-95e3-7fd125533e08",
   "metadata": {},
   "source": [
    "## Author\n",
    "Mr. Lonwabo Faleni"
   ]
  },
  {
   "cell_type": "code",
   "execution_count": null,
   "id": "09d4f8d1-d7d4-4655-a34d-4f98e1c725f2",
   "metadata": {},
   "outputs": [],
   "source": []
  }
 ],
 "metadata": {
  "kernelspec": {
   "display_name": "Python 3 (ipykernel)",
   "language": "python",
   "name": "python3"
  },
  "language_info": {
   "codemirror_mode": {
    "name": "ipython",
    "version": 3
   },
   "file_extension": ".py",
   "mimetype": "text/x-python",
   "name": "python",
   "nbconvert_exporter": "python",
   "pygments_lexer": "ipython3",
   "version": "3.12.8"
  }
 },
 "nbformat": 4,
 "nbformat_minor": 5
}
